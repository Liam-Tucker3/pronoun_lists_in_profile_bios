{
 "cells": [
  {
   "cell_type": "markdown",
   "id": "5ba7c569",
   "metadata": {},
   "source": [
    "# Accessing random bios with a specific token"
   ]
  },
  {
   "cell_type": "code",
   "execution_count": 2,
   "id": "5c78f7bc",
   "metadata": {},
   "outputs": [],
   "source": [
    "import pandas as pd\n",
    "import re\n",
    "\n",
    "# Opens csv file of bios and ids\n",
    "# Returns pandas data frame\n",
    "def load_data(filename):\n",
    "    data = pd.read_csv(filename)\n",
    "    assert data.shape[0] == 250000\n",
    "    return data\n",
    "\n",
    "# Prints the user_id_str and bio of the first n bios that contain the specified token\n",
    "# If fewer than n bios, returns each bio\n",
    "def get_n_bios_with_token(n, token, data):\n",
    "    token = token.casefold()\n",
    "    count = 0\n",
    "    for j in range(data.shape[0]):\n",
    "        if count >= n: return\n",
    "        \n",
    "        bio = data.iloc[j, 1]\n",
    "        if pd.isna(bio): bio = \"\"        \n",
    "        bio = bio.casefold()\n",
    "        tokens = re.split(\"[^a-zA-Z0-9/'`’-]\", bio)\n",
    "        if token in tokens:\n",
    "            print(data.iloc[j, 0], \"\\t|\\t\", data.iloc[j, 1])\n",
    "            count += 1            \n",
    "\n",
    "# Same as get_b_bios_with_token, but for a bigram\n",
    "def get_n_bios_with_bigram(n, bigram, data):\n",
    "    bigram = bigram.casefold()\n",
    "    bigrams = re.split(\"[^a-zA-Z0-9/'`’-]\", bigram)\n",
    "    assert len(bigrams) == 2\n",
    "    \n",
    "    count = 0\n",
    "    for i in range(data.shape[0]):\n",
    "        if count >= n: return\n",
    "        \n",
    "        bio = data.iloc[i, 1]\n",
    "        if pd.isna(bio): bio = \"\"        \n",
    "        bio = bio.casefold()\n",
    "        tokens = re.split(\"[^a-zA-Z0-9/'`’-]\", bio)\n",
    "        \n",
    "        for j in range(len(tokens) - 1):\n",
    "            if tokens[j] == bigrams[0] and tokens[j+1] == bigrams[1]:\n",
    "                print(data.iloc[i, 0], \"\\t|\\t\", data.iloc[i, 1])\n",
    "                count += 1\n",
    "                break\n",
    "                \n",
    "# Same as get_b_bios_with_token, but for a trigram           \n",
    "def get_n_bios_with_trigram(n, trigram, data):\n",
    "    trigram = trigram.casefold()\n",
    "    trigrams = re.split(\"[^a-zA-Z0-9/'`’-]\", trigram)\n",
    "    assert len(trigrams) == 3\n",
    "    \n",
    "    count = 0\n",
    "    for i in range(data.shape[0]):\n",
    "        if count >= n: return\n",
    "        \n",
    "        bio = data.iloc[i, 1]\n",
    "        if pd.isna(bio): bio = \"\"        \n",
    "        bio = bio.casefold()\n",
    "        tokens = re.split(\"[^a-zA-Z0-9/'`’-]\", bio)\n",
    "        \n",
    "        for j in range(len(tokens) - 2):\n",
    "            if tokens[j] == trigrams[0] and tokens[j+1] == trigrams[1] and tokens[j+2] == trigrams[2]:\n",
    "                print(data.iloc[i, 0], \"\\t|\\t\", data.iloc[i, 1])\n",
    "                count += 1\n",
    "                break\n"
   ]
  },
  {
   "cell_type": "code",
   "execution_count": 38,
   "id": "41a5ee1c",
   "metadata": {
    "scrolled": false
   },
   "outputs": [
    {
     "name": "stdout",
     "output_type": "stream",
     "text": [
      "443557398 \t|\t im a die hard bama fan lakers  fan and cowboys fan  a cowboys fan 4life and im a huge texas rangers fan\n",
      "4509203363 \t|\t USAF 🇺🇸 I stream so check out the link below👇🏾 BAMA Raised\n",
      "1440882524071280640 \t|\t BAMA STATE 💛🖤 RIP DADDY 🕊\n",
      "1117366278879105024 \t|\t Wife,Mom,Grandmother,dog lover, sports fan, and BAMA fan!\n",
      "1171270878744592384 \t|\t Bama grad living in Salt Lake City. I mostly argue and retweet things that make me laugh\n",
      "\n",
      "1541187902 \t|\t i write music & talk too much about Harry Styles\n",
      "1502154517 \t|\t Harry Styles is my baby daddy\n",
      "771062267618009088 \t|\t Westminster College , Soc Major, a Harry Styles fan , Pentecostal, & conservative. 🙃 💕 Justin followed on 12/24/19.\n",
      "467529553 \t|\t i vent on the internet a lot • (she/her) half gay harry styles stan ot5 4lyf\n",
      "1475924228 \t|\t Instagram: laurennnsavageee || 23 || NS Larry ||TikTok: laurennnsavageee_ || “oops…” “Hi..” - Harry Styles and Louis Tomlinson || She/Her\n",
      "\n",
      "1106382525419716609 \t|\t Human.Father.ex-republican.Deadhead.🎶🕺🎶🕺Indy 500.🏎🏁Black Lives Matter.\n",
      "998131961620185089 \t|\t black lives matter\n",
      "31452973 \t|\t Writing, thinking. MSW, MS. Firearms & other public policy. Shooter. Give blood. Be an informed voter. Black Lives Matter. Listen, more. She/Her. #txlege 🇺🇦\n",
      "4924336390 \t|\t Black lives matter. 🖤\n",
      "\n",
      "✊🏼✊🏾✊🏿\n",
      "\n",
      "@alafpolak1 - 27/09/20 // 26/09/21🇨🇵🌈🥇🚴🏼‍♂️\n",
      "\n",
      "@nicolas88batum 🙌🏼\n",
      "1278872754666770433 \t|\t Black Lives Matter! • ♏️• FAMU Grad x2 🐍• FL Bred 🍊🐇• IG. @asmith_24 • Dr. Smith-- Loading!\n"
     ]
    }
   ],
   "source": [
    "data = load_data(\"/REU/random_250000_bios.csv\")\n",
    "\n",
    "get_n_bios_with_token(5, \"Bama\", data)\n",
    "print()\n",
    "get_n_bios_with_bigram(5, \"Harry Styles\", data)\n",
    "print()\n",
    "get_n_bios_with_trigram(5, \"Black lives Matter\", data)"
   ]
  },
  {
   "cell_type": "code",
   "execution_count": 61,
   "id": "c25f6351",
   "metadata": {},
   "outputs": [
    {
     "name": "stdout",
     "output_type": "stream",
     "text": [
      "185383250 \t|\t No tengo opinión de todo, para ello antes debería pensarlo, estudiarlo, meditarlo..puff\n",
      "390225235 \t|\t Venta de Residencias, Bróker, Construcción de Edificios, Oficinas, Departamentos, Residencia en General, Tijuana B. C. México.\n",
      "6644383926\n",
      "803023461840883712 \t|\t “Un Gallón De Buena Rama Pa’ Ponerme A Recordar” 😗💨\n",
      "1287227652621897728 \t|\t • Streamer en Trovo 🎮\n",
      "• Practicante de creación de Mods 👾\n",
      "• Seamos amiguitos 🔫 \n",
      "• Discord: http://discord.gg/mD5qXTRuGy\n",
      "2886999507 \t|\t Fondo de Agua para Lima y Callao. Promovemos una nueva cultura del agua y destinamos acciones para la recuperación de las cuencas del Chillón, Rímac y Lurín.\n",
      "1324804128887971842 \t|\t Somos una empresa que se dedica a la venta y distribución de artículos deportivos! Todo lo relacionado al deporte lo podes encontrar en nuestro local\n",
      "589726446 \t|\t Ingeniero Civil experiencia dirección de  ingeniería y construcción infraestructura aeroportuaria, carretera, penitenciaria, portuaria, industrial y vivienda.\n",
      "1273123280334008321 \t|\t Medio de comunicación pospandémico dedicado a la presentación de información de interés en La Paz y Baja California Sur, elaborado por almas jóvenes.\n",
      "909946139088003075 \t|\t Soy creador de contenido en YouTube, aprendiz en la edición y producción de video y música. Un escritor novato que quiere cambiar a su generación.\n",
      "851202984 \t|\t 🇺🇾🇺🇸 C N de F\n"
     ]
    }
   ],
   "source": [
    "# data = load_data(\"/REU/random_250000_bios.csv\")\n",
    "get_n_bios_with_bigram(10, \"n de\", data)"
   ]
  }
 ],
 "metadata": {
  "kernelspec": {
   "display_name": "Python 3 (ipykernel)",
   "language": "python",
   "name": "python3"
  },
  "language_info": {
   "codemirror_mode": {
    "name": "ipython",
    "version": 3
   },
   "file_extension": ".py",
   "mimetype": "text/x-python",
   "name": "python",
   "nbconvert_exporter": "python",
   "pygments_lexer": "ipython3",
   "version": "3.9.12"
  }
 },
 "nbformat": 4,
 "nbformat_minor": 5
}
